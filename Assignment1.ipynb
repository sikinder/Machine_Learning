{
 "cells": [
  {
   "cell_type": "markdown",
   "metadata": {},
   "source": [
    "# Write a Python program to get a string made of the first 2 and the last chars from a given a string?\n",
    "string = 'veridicsolutions'\n",
    "\n",
    "expected output = vens"
   ]
  },
  {
   "cell_type": "code",
   "execution_count": 22,
   "metadata": {},
   "outputs": [
    {
     "name": "stdout",
     "output_type": "stream",
     "text": [
      "vens\n"
     ]
    }
   ],
   "source": [
    "input_string = \"veridicsolutions\"\n",
    "a = (input_string[:2])\n",
    "b = (input_string[-2:])\n",
    "output_string = str(a)+str(b)\n",
    "print(output_string)\n"
   ]
  },
  {
   "cell_type": "markdown",
   "metadata": {},
   "source": [
    "# Write a program to add up the last 2 characters 3 times for the above string?\n",
    "expected output = nsnsns\n"
   ]
  },
  {
   "cell_type": "code",
   "execution_count": 27,
   "metadata": {},
   "outputs": [
    {
     "name": "stdout",
     "output_type": "stream",
     "text": [
      "nsnsns\n"
     ]
    }
   ],
   "source": [
    "input_string = \"veridicsolutions\"\n",
    "a = (input_string[-2:])\n",
    "output_string = str(a)*3\n",
    "print(output_string)"
   ]
  },
  {
   "cell_type": "markdown",
   "metadata": {},
   "source": [
    "# Read two integers from input() and print five lines where: a. The first line contains the sum of the two numbers. b. The second line contains the difference of the two numbers (first - second). c. The third line contains the product of the two numbers. d. The fourth line should contain integer division, a//b. e. The fifth line should contain float division, a/b."
   ]
  },
  {
   "cell_type": "code",
   "execution_count": 86,
   "metadata": {},
   "outputs": [
    {
     "name": "stdout",
     "output_type": "stream",
     "text": [
      "Enter First integer :2\n",
      "Enter Second integer: 1\n",
      "Sum of int1 and int2 is:  3\n",
      "Difference of int and int2 is:  1\n",
      "Product of int and int2 is:  2\n",
      "IntDivision of int and int2 is:  2\n",
      "FloatDivision of int and int2 is:  2.000000\n"
     ]
    }
   ],
   "source": [
    "int1 = input('Enter First integer :')\n",
    "int2 = input('Enter Second integer: ')\n",
    "output1 = int(int1) + int(int2)\n",
    "Sum = (\"Sum of int1 and int2 is:  %d\")\n",
    "print(Sum %(output1))\n",
    "output2 = int(int1) - int(int2)\n",
    "Difference = (\"Difference of int and int2 is:  %d\")\n",
    "print( Difference %(output2))\n",
    "output3 = int(int1) * int(int2)\n",
    "Product = (\"Product of int and int2 is:  %d\")\n",
    "print( Product %(output3))\n",
    "output4 = int(int1) / int(int2)\n",
    "IntDivision= (\"IntDivision of int and int2 is:  %d\")\n",
    "print( IntDivision %(output4))\n",
    "output5 = float(int1) / float(int2)\n",
    "FloatDivision= (\"FloatDivision of int and int2 is:  %f\")\n",
    "print( FloatDivision %(output5))\n",
    "\n"
   ]
  },
  {
   "cell_type": "markdown",
   "metadata": {},
   "source": [
    "# Write a program to print the following using string slicing given the string is ‘Python’\n",
    "‘P’\n",
    "‘n’\n",
    "‘ytho’\n",
    "‘on’\n",
    "‘Py’"
   ]
  },
  {
   "cell_type": "code",
   "execution_count": 100,
   "metadata": {},
   "outputs": [
    {
     "name": "stdout",
     "output_type": "stream",
     "text": [
      "P\n",
      "n\n",
      "ytho\n",
      "on\n",
      "Py\n"
     ]
    }
   ],
   "source": [
    "string = \"Python\"\n",
    "print(string[0])\n",
    "print(string[-1])\n",
    "print(string[ 1:-1])\n",
    "print(string[4:])\n",
    "print(string[:2])\n",
    "\n",
    "\n",
    "\n",
    "      "
   ]
  },
  {
   "cell_type": "markdown",
   "metadata": {},
   "source": [
    "# Given 2 strings, print their concatenation, except omit the first char of each. The strings will be atleast length 1.\n",
    "Example: 'Hello', 'There' expected output: 'ellohere'"
   ]
  },
  {
   "cell_type": "code",
   "execution_count": 103,
   "metadata": {},
   "outputs": [
    {
     "name": "stdout",
     "output_type": "stream",
     "text": [
      "ellohere\n"
     ]
    }
   ],
   "source": [
    "str1 = \"Hello\"\n",
    "str2 = \"There\"\n",
    "output = print(str1[1:]+str2[1:])"
   ]
  },
  {
   "cell_type": "markdown",
   "metadata": {},
   "source": [
    "# Given the participants' score sheet for your University Sports Day, you are required to find the runner-up score. You are given scores. Store them in a list and find the score of the runner-up.\n",
    "Example: Given list is [2,3,6,6,5]. The maximum score is 6, second maximum is 5. Hence, we print 5 as the runner-up score."
   ]
  },
  {
   "cell_type": "code",
   "execution_count": 139,
   "metadata": {},
   "outputs": [
    {
     "name": "stdout",
     "output_type": "stream",
     "text": [
      "<class 'list'>\n",
      "[2, 3, 5, 6, 6]\n",
      "6\n",
      "[6]\n",
      "2\n",
      "3\n",
      "[[2, 3, 5, 6]]\n",
      "3\n",
      "[[2, 3, 5]]\n",
      "[5]\n",
      "1\n"
     ]
    }
   ],
   "source": [
    "scores = [2,3,6,6,5]\n",
    "print(type(scores)) #checking type of scoress\n",
    "print(sorted(scores)) # sorting the list\n",
    "orderedScores = sorted(scores) # Assigning sorted list to OrderedScores\n",
    "print(max(orderedScores)) # selecting Max value of scores\n",
    "WinnerScore = (max(orderedScores)) # Assigning Max score value to Winner\n",
    "print([WinnerScore]) # Printing winner Score\n",
    "print(scores.count(6)) # Checking if there are multiple winners\n",
    "print(orderedScores.index(6)) # Getting first index of WinnerScore\n",
    "orderedScores.pop(3) # Removing First occurance of Max Score ie  winner\n",
    "print([orderedScores]) #Printing new list of Scores after removing First Winner\n",
    "print(orderedScores.index(6)) # Getting the Index of Shared Winner(technically, because I'm assuming same score means same Rank)\n",
    "orderedScores.pop(3) # Removing Second Occurance of Max Score ie Shared Winner\n",
    "print([orderedScores]) # Printing new list of Scores after removing Shared Winner\n",
    "RunnerUpScore = (max(orderedScores)) # Finding Runner up score\n",
    "print([RunnerUpScore]) #Printing RunnerUp Score\n",
    "print(orderedScores.count(5)) #Checking if there is shared RunnerUp\n"
   ]
  },
  {
   "cell_type": "markdown",
   "metadata": {},
   "source": [
    "# Given a student’s marks list as 56, 75, 89, 78. Calculate and print the total marks and the percentage that the student obtained. (Info: Total marks for each subject is 100)"
   ]
  },
  {
   "cell_type": "code",
   "execution_count": 143,
   "metadata": {},
   "outputs": [
    {
     "name": "stdout",
     "output_type": "stream",
     "text": [
      "TotalMarks sored by the student is: = 298\n",
      "Percentage of the student is: = 74.500000\n"
     ]
    }
   ],
   "source": [
    "Marks = [56,75,89,78]\n",
    "Total = sum(Marks)\n",
    "TotalMarks= (\"TotalMarks sored by the student is: = %d\")\n",
    "print( TotalMarks %(Total))\n",
    "MaxScorePerSub = 100 #Given\n",
    "Percent = Total*100/(len(Marks)*MaxScorePerSub) # Length gives No.of Sub and that multiplied by MaxScorePerSub gives Max Total achievable, total achieved to Total achievable times 100 gives final percentage\n",
    "Percentage= (\"Percentage of the student is: = %f\")\n",
    "print(Percentage %(Percent))\n"
   ]
  },
  {
   "cell_type": "markdown",
   "metadata": {},
   "source": [
    "# Write a program to swap two numbers given only 2 variables 'a' and 'b' ( condition: No other variables should be declared other than a and b)"
   ]
  },
  {
   "cell_type": "code",
   "execution_count": 144,
   "metadata": {},
   "outputs": [
    {
     "name": "stdout",
     "output_type": "stream",
     "text": [
      "5\n",
      "3\n"
     ]
    }
   ],
   "source": [
    "a = 3\n",
    "b = 5\n",
    "a=(a+b) # now the value of a becomes 8\n",
    "b=(a-b) #Try to make b = 3 as a = 8; a- b gives 3 assign it to b, now b=3 and a = 8\n",
    "a=(a-b) # Now only task is to make a = 5 from a=8 and b = 3 which is clear a-b \n",
    "print(a)\n",
    "print(b)"
   ]
  },
  {
   "cell_type": "markdown",
   "metadata": {},
   "source": [
    "# write a program to print the are and perimeter of a circle, given radisu is input from keyboard. ( PI value = 3.14) Area = PI radius**2 perimeter = 2 PI * radius"
   ]
  },
  {
   "cell_type": "code",
   "execution_count": 147,
   "metadata": {},
   "outputs": [
    {
     "name": "stdout",
     "output_type": "stream",
     "text": [
      "Enter radius: 3\n",
      "AreaOfCircle is: 28.260000\n",
      "CircumferenceOfCircle is: 18.840000\n"
     ]
    }
   ],
   "source": [
    "Pi= 3.14\n",
    "r = int(input(\"Enter radius: \"))\n",
    "outputArea = Pi*(r**2)\n",
    "Area = (\"AreaOfCircle is: %f\")\n",
    "print(Area %(outputArea))\n",
    "outputCircum = 2*Pi*r\n",
    "Circumference = (\"CircumferenceOfCircle is: %f\")\n",
    "print(Circumference %(outputCircum))"
   ]
  }
 ],
 "metadata": {
  "kernelspec": {
   "display_name": "Python 3",
   "language": "python",
   "name": "python3"
  },
  "language_info": {
   "codemirror_mode": {
    "name": "ipython",
    "version": 3
   },
   "file_extension": ".py",
   "mimetype": "text/x-python",
   "name": "python",
   "nbconvert_exporter": "python",
   "pygments_lexer": "ipython3",
   "version": "3.6.4"
  }
 },
 "nbformat": 4,
 "nbformat_minor": 2
}
